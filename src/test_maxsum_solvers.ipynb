{
 "cells": [
  {
   "cell_type": "code",
   "execution_count": 1,
   "metadata": {},
   "outputs": [
    {
     "name": "stdout",
     "output_type": "stream",
     "text": [
      "energy=7.0\n",
      "[0 1 0]\n"
     ]
    }
   ],
   "source": [
    "import numpy as np\n",
    "from manet.maxsum import adag\n",
    "\n",
    "\n",
    "#####\n",
    "Q = np.array([[3, 2, 2], [-1,2,0]])\n",
    "G = np.array([[[-1,0],[0,-2]], [[0,-1],[0,-1]]]  )\n",
    "E = np.array( [[0,1],[1,2],[0,1]] )\n",
    "\n",
    "labels, energy = adag( Q, G, E )\n",
    "\n",
    "print(f\"energy={energy}\")\n",
    "print( labels )\n",
    "\n",
    "\n"
   ]
  },
  {
   "cell_type": "code",
   "execution_count": 2,
   "metadata": {},
   "outputs": [
    {
     "name": "stdout",
     "output_type": "stream",
     "text": [
      "energy=7.0\n",
      "[0 1 0]\n"
     ]
    }
   ],
   "source": [
    "from manet.maxsum import viterbi\n",
    "\n",
    "\n",
    "labels, energy = viterbi( Q, G )\n",
    "print(f\"energy={energy}\")\n",
    "print( labels )\n",
    "\n",
    "\n",
    "\n"
   ]
  }
 ],
 "metadata": {
  "kernelspec": {
   "display_name": "nikl",
   "language": "python",
   "name": "nikl"
  },
  "language_info": {
   "codemirror_mode": {
    "name": "ipython",
    "version": 3
   },
   "file_extension": ".py",
   "mimetype": "text/x-python",
   "name": "python",
   "nbconvert_exporter": "python",
   "pygments_lexer": "ipython3",
   "version": "3.7.3"
  }
 },
 "nbformat": 4,
 "nbformat_minor": 4
}
